{
 "cells": [
  {
   "cell_type": "markdown",
   "metadata": {
    "colab_type": "text",
    "id": "V00rkAAMNgYR"
   },
   "source": [
    "# MAC0318 Introdução à Programação de Robôs Móveis\n",
    "\n",
    "## Controlador por aprendizado de redes neurais convolucionais\n",
    "\n",
    "Vamos construir novamente um regressor baseado em redes neurais para prever a saída do sistema de controle do robô seguidor de pisa a partir de imagens da câmera do robô. A saída do nosso modelo é portanto uma estimativa para\n",
    "\n",
    "$$\n",
    "y(t) = 6d(t) + \\alpha(t) .\n",
    "$$\n",
    "\n",
    "onde $d$ e $\\alpha$ são dados como na figura abaixo.\n",
    "\n",
    "<figure style=\"text-align: center\">\n",
    "    <img src=\"img/lane_following2.png\" width=300>\n",
    "</figure>\n",
    "\n",
    "Vamos modificar a arquitetura que usamos anteriormente para incluir camadas convolucionais que permitam atingir desempenho similar com um número muito menor de parâmetros. "
   ]
  },
  {
   "cell_type": "markdown",
   "metadata": {},
   "source": [
    "## Pré-processamento de imagem\n",
    "\n",
    "Vamos carregar os dados e efetuar o pré-processamento como antes. Apesar da rede convolucional conseguir aprender diretamente dos dados brutos (isto é, dos valores de intensidade dos pixels), vamos aplicar a segmentação de cores de forma a tornar o modelo aprendido mais robustos à mudanças nas imagens (por exemplo, em relação à imagens reais da câmera, ou a mudanças de cores de faixa etc)."
   ]
  },
  {
   "cell_type": "code",
   "execution_count": 1,
   "metadata": {},
   "outputs": [],
   "source": [
    "# Começamos carregando as bibliotecas necessárias\n",
    "\n",
    "%matplotlib inline\n",
    "import numpy as np\n",
    "import matplotlib.pyplot as plt\n",
    "import tensorflow as tf\n",
    "import tensorflow.keras as keras\n",
    "import tensorflow.keras.layers as layers\n",
    "import cv2\n",
    "import gc"
   ]
  },
  {
   "cell_type": "markdown",
   "metadata": {},
   "source": [
    "### Obtendo o conjunto de dados\n",
    "\n",
    "Vamos utilizar os mesmos conjuntos de [dados de imagens](https://drive.google.com/file/d/1n9uitBceCk4xXEJ7njoKWFMXpNegySDQ/view?usp=sharing) e os respectivos [valores de saída](https://drive.google.com/file/d/1yVujNH-Hd7ifqKrgAe6XscawdhDVkn_f/view?usp=sharing) $y=6d+\\alpha$.\n",
    "Baixe os arquivos (se já não os tiver em seu computador) e modifique os caminhos abaixo de maneira adequada."
   ]
  },
  {
   "cell_type": "code",
   "execution_count": 3,
   "metadata": {},
   "outputs": [
    {
     "name": "stdout",
     "output_type": "stream",
     "text": [
      "Dimensões das imagens: (3775, 42, 80, 3)\n",
      "Dimensões das saídas: (3775,)\n"
     ]
    }
   ],
   "source": [
    "# Mude os endereços dos arquivos conforme necessário\n",
    "images = np.load('/Users/denis/Downloads/data-lane-pose-estimation-images.npy', allow_pickle=True) \n",
    "print('Dimensões das imagens:', images.shape) # dimensões do conjunto de imagens: número de exemplos e dimensões de cada imagem\n",
    "y_true = np.load('/Users/denis/Downloads/data-lane-pose-estimation-labels.npy', allow_pickle=True) \n",
    "print('Dimensões das saídas:', y_true.shape) # dimensões do conjunto de saídas: número de exemplos"
   ]
  },
  {
   "cell_type": "markdown",
   "metadata": {},
   "source": [
    "Vamos ver a primeira imagem do conjunto e suas saída"
   ]
  },
  {
   "cell_type": "code",
   "execution_count": 4,
   "metadata": {},
   "outputs": [
    {
     "name": "stdout",
     "output_type": "stream",
     "text": [
      "Dimensões: 80x42 pixels\n"
     ]
    },
    {
     "data": {
      "image/png": "[encoded data removed]",
      "text/plain": [
       "<Figure size 432x288 with 1 Axes>"
      ]
     },
     "metadata": {
      "needs_background": "light"
     },
     "output_type": "display_data"
    }
   ],
   "source": [
    "img, y = images[0], y_true[0]\n",
    "plt.imshow(img);\n",
    "plt.title(f'y = {y}')\n",
    "print(f'Dimensões: {img.shape[1]}x{img.shape[0]} pixels')"
   ]
  },
  {
   "cell_type": "markdown",
   "metadata": {},
   "source": [
    "### Segmentação por cor\n",
    "\n",
    "Vamos segmentar as imagens pelas cores amarela e branca com um filtro de intervalo no espaço HSV, e representar as segmentações em canais distintos."
   ]
  },
  {
   "cell_type": "code",
   "execution_count": 6,
   "metadata": {},
   "outputs": [],
   "source": [
    "# Intervalo para cor amarela \n",
    "amarelo_i = np.array([10, 80, 100], dtype=np.uint8)  # limite inferior\n",
    "amarelo_s = np.array([30, 255, 255], dtype=np.uint8) # limite superior\n",
    "\n",
    "# Intervalo para cor branca\n",
    "branco_i = np.array([0, 0, 180], dtype=np.uint8)    # limite inferior\n",
    "branco_s = np.array([179, 80, 255], dtype=np.uint8) # limite superior\n",
    "\n",
    "# Criamos uma matriz N x A x L x 2 para guardar N imagens com 2 canais (amarelo e branco), \n",
    "# onde L e A são as dimensões de uma imagem (largura e altura)\n",
    "X = np.zeros((images.shape[0], images.shape[1], images.shape[2], 2), dtype=np.float32)\n",
    "# Agora segmentamos cada imagem e separamos os canais\n",
    "for i in range(images.shape[0]):\n",
    "    # obter representação HSV\n",
    "    hsv = cv2.cvtColor(images[i,:,:,:], cv2.COLOR_RGB2HSV)\n",
    "    # Construir máscara dos pontos no hiperretângulo do espaço HSV especificado para cor amarela\n",
    "    X[i,:,:,0] = cv2.inRange(hsv, amarelo_i, amarelo_s)//255 # dividimos por 255 para normalizar a saída em [0,1], o que é melhor para o aprendizado\n",
    "    # Construir máscara dos pontos no hiperretângulo do espaço HSV especificado para cor branca\n",
    "    X[i,:,:,1] = cv2.inRange(hsv, branco_i, branco_s)//255"
   ]
  },
  {
   "cell_type": "markdown",
   "metadata": {},
   "source": [
    "### Separação treino-teste-validação\n",
    "\n",
    "Particionamos os dados entre:\n",
    "\n",
    "1. **Treino**: Selecionar ou ajustar os parâmetros do modelo para obter uma acurácia alta.\n",
    "2. **Validação**: Comparar e escolher entre diferentes hipóteses (por exemplo, valores de hiperparâmetros como arquiterura da rede, taxa e algoritmo de aprendizado etc) e configurações\n",
    "3. **Teste**: Estimar a acurácia do modelo em dados reais *não vistos*"
   ]
  },
  {
   "cell_type": "code",
   "execution_count": 48,
   "metadata": {},
   "outputs": [
    {
     "name": "stdout",
     "output_type": "stream",
     "text": [
      "Proporção de treino: 0.9001\n"
     ]
    }
   ],
   "source": [
    "p = 0.9 # proporção do tamanho dp subconjunto de treino\n",
    "N_treino = int(p*X.shape[0] + 0.5) # quantidade de exemplos de treino\n",
    "\n",
    "# Permutamos os índices dos exemplos\n",
    "indices = np.random.permutation(X.shape[0])\n",
    "id_treino, id_teste = indices[:N_treino], indices[N_treino:]\n",
    "X_treino, X_teste = X[id_treino,:,:,:], X[id_teste,:,:,:]\n",
    "y_treino, y_teste = y_true[id_treino], y_true[id_teste]\n",
    "\n",
    "print(f'Proporção de treino: {X_treino.shape[0]/X.shape[0]:.4f}')"
   ]
  },
  {
   "cell_type": "markdown",
   "metadata": {},
   "source": [
    "##  Treinamento\n",
    "\n",
    "Podemos finalmente aprender uma rede neural para a tarefa -- Precisamos escolher a arquitetura da rede e os hiperparâmetros."
   ]
  },
  {
   "cell_type": "code",
   "execution_count": 9,
   "metadata": {},
   "outputs": [
    {
     "name": "stdout",
     "output_type": "stream",
     "text": [
      "GPU Available:  []\n"
     ]
    }
   ],
   "source": [
    "# Ter uma GPU ajuda bastante, mas não é crucial para esse exemplo pequeno\n",
    "# Lembre-se: você pode recorrer ao Google Colaboratory para treinar a rede se precisar\n",
    "print(\"GPU Available: \", tf.config.list_physical_devices('GPU'))"
   ]
  },
  {
   "cell_type": "markdown",
   "metadata": {},
   "source": [
    "### Arquitetura\n",
    "\n",
    "Vamos usar uma arquitetura simples com 4 camadas ocultas \n",
    "\n",
    "As primeiras 2 camadas farão a extração das características e serão do [tipo convolucional](https://www.tensorflow.org/api_docs/python/tf/keras/layers/Conv2D). As últimas duas camadas servirão para construir um regressor não linear a partir das características extraídas e serão do tipo densas. Como anteriormente, diminuímos os tamanhos das camadas a medida que avançamos rumo a saída de forma a encorjar representações dos dados cada vez mais abstratas por meio de compressão de informação."
   ]
  },
  {
   "cell_type": "code",
   "execution_count": 46,
   "metadata": {},
   "outputs": [],
   "source": [
    "# Especifiamos e compilamos uma rede sem camadas ocultas\n",
    "\n",
    "dimensão = X[0].size # tamanho total da entrada \n",
    "\n",
    "gc.collect() # vamos limpar a memória antes de construir o modelo (pois ele usa bastante memória)\n",
    "\n",
    "modelo = keras.Sequential([\n",
    "    keras.Input(shape=X[0].shape), # camada de entrada   # As primeiras \n",
    "    # Vamos começar por uma camada convolucional com 16 filtros convolucionais, kernel 3x3, sem padding e com passo (stride) 1\n",
    "    # Isso resulta vai criar em 10*(80-2)*(42-2)*2 neurônios, e 3*3*2 + 2 parâmetros (os últimos dois são constantes adicionadas a função de ativação)\n",
    "    layers.Conv2D(10, kernel_size=3, strides=(1, 1), activation='leaky_relu'), \n",
    "    # Seguida por uma camada convolucional de 2*(80-2-2)*(42-2-2) neurônios e kernel 3x3, sem padding e com passo 1\n",
    "    layers.Conv2D(2, kernel_size=3, strides=(1, 1), activation='leaky_relu'), \n",
    "    # precisamos \"achatar\" a entrada para a camada densa, que recebe um vetor\n",
    "    layers.Flatten(),                                    \n",
    "    # camada densa para realizar a regressão não linear\n",
    "    layers.Dense(64, activation=tf.nn.relu),\n",
    "    # última camada realiza regressão linear a partir da representação da camada anterior\n",
    "    layers.Dense(1) # Camada de saída\n",
    "  ])\n",
    "# Vamos utilizar Adam e medir o desempenho também pelo erro absoluto médio\n",
    "modelo.compile(loss='mean_squared_error', optimizer='Adam', metrics= ['mean_squared_error'])"
   ]
  },
  {
   "cell_type": "code",
   "execution_count": 47,
   "metadata": {},
   "outputs": [
    {
     "name": "stdout",
     "output_type": "stream",
     "text": [
      "Model: \"sequential_10\"\n",
      "_________________________________________________________________\n",
      "Layer (type)                 Output Shape              Param #   \n",
      "=================================================================\n",
      "conv2d_20 (Conv2D)           (None, 40, 78, 10)        190       \n",
      "_________________________________________________________________\n",
      "conv2d_21 (Conv2D)           (None, 38, 76, 2)         182       \n",
      "_________________________________________________________________\n",
      "flatten_10 (Flatten)         (None, 5776)              0         \n",
      "_________________________________________________________________\n",
      "dense_20 (Dense)             (None, 64)                369728    \n",
      "_________________________________________________________________\n",
      "dense_21 (Dense)             (None, 1)                 65        \n",
      "=================================================================\n",
      "Total params: 370,165\n",
      "Trainable params: 370,165\n",
      "Non-trainable params: 0\n",
      "_________________________________________________________________\n"
     ]
    }
   ],
   "source": [
    "# Vamos ver um resumo do modelo que criamos - note a quantidade alta de parâmetros\n",
    "modelo.summary()"
   ]
  },
  {
   "cell_type": "markdown",
   "metadata": {
    "colab_type": "text",
    "id": "4HNFjgCvSnhQ"
   },
   "source": [
    "Agora otimimizamos o modelo -- Note: **esse processo usar recursos consideráveis do seu computador**, isto é, memória e tempo de processamento. Se seu computador não tiver recursos, considere usar o Google Collab."
   ]
  },
  {
   "cell_type": "code",
   "execution_count": 42,
   "metadata": {
    "colab": {},
    "colab_type": "code",
    "id": "vzmgT9RsSwO6"
   },
   "outputs": [
    {
     "name": "stdout",
     "output_type": "stream",
     "text": [
      "0%..15%..30%..45%..60%..75%..90%."
     ]
    }
   ],
   "source": [
    "num_epochs = 200 # número de épocas (iterações) so aprendizado\n",
    "\n",
    "class PrintDot(keras.callbacks.Callback):\n",
    "    'Mostra progresso do aprendizado.'\n",
    "    def on_epoch_end(self, epoch, logs):\n",
    "        if epoch % 30 == 0: print(f'{100*epoch/num_epochs:.0f}%', end='') # mostrar % de progresso a cada 30 épocas\n",
    "        elif epoch % 5 == 0: print('.', end='')  # mostrar ponto a cada 5 épocas    \n",
    "\n",
    "# Chama função de aprendizado -- isso demora alguns minutos!\n",
    "hist = modelo.fit( \n",
    "    X_treino,                   # conjunto de entrada\n",
    "    y_treino.astype('float32'), # conjunto de saída -- precisamos reduzir a precisão numérica da saída também para manter consistência\n",
    "    epochs = num_epochs,        # número de épocas\n",
    "    validation_split = 0.1,     # separar porção dos dados para servir como validação\n",
    "    verbose = 0,                # 0, 1 ou 2, regulam a quantidade de feedback fornecido (verborragia)\n",
    "    batch_size = 128,            # vamos usar amostras do conjunto de treino para economizar memória e prevenir overfitting\n",
    "                                # - diminuir esse número reduz o uso de memória, porém diminui a convergência e estabilidade\n",
    "    callbacks=[PrintDot()]      # Vamos usar pontinhos para indicar o progresso\n",
    ")\n",
    "\n",
    "print('100%')"
   ]
  },
  {
   "cell_type": "markdown",
   "metadata": {},
   "source": [
    "Observe a curva de aprendizado; esperamos que ele tenha uma tendência de queda abrupta no começo para valores abaixo de 0.01 nas primeiras épocas e em seguida mantenha-se em uma pequena queda. O erro de validação serve para se assegurar que o modelo não está superajustado aos dados de treino e que portanto sua acurácia *generaliza* para à população."
   ]
  },
  {
   "cell_type": "code",
   "execution_count": 43,
   "metadata": {},
   "outputs": [
    {
     "data": {
      "image/png": "[encoded data removed]",
      "text/plain": [
       "<Figure size 432x288 with 1 Axes>"
      ]
     },
     "metadata": {
      "needs_background": "light"
     },
     "output_type": "display_data"
    }
   ],
   "source": [
    "plt.plot(hist.epoch, hist.history['loss'], label='erro de treino');\n",
    "plt.plot(hist.epoch, hist.history['val_loss'], label='erro de validação');\n",
    "plt.xlabel('Época');\n",
    "plt.ylabel('Avaliação');\n",
    "plt.legend();"
   ]
  },
  {
   "cell_type": "markdown",
   "metadata": {},
   "source": [
    "### E se meu preditor é ruim?\n",
    "\n",
    "Você pode tentar melhorar a qualidade do seu preditor:\n",
    "\n",
    "1. Realizando novamente o aprendizado a partir de outro solução inicial (aleatória)\n",
    "2. Aumentanto a quantidade de camadas da rede\n",
    "3. Aumentando o número de épocas de treino\n",
    "4. Aumentando o tamanho do _minibatch_\n",
    "5. Modificando o algoritmo de aprendizado (RMSProp é outro algoritmo comumente utilizado)"
   ]
  },
  {
   "cell_type": "markdown",
   "metadata": {},
   "source": [
    "## Teste sua rede\n",
    "\n",
    "Antes de anunciarmos o problema como resolvido, precisamos nos assegurar que os resultados serão replicados em  dados futuros. Para isso vamos medir a qualidade do modelo no conjunto de teste que separamos."
   ]
  },
  {
   "cell_type": "code",
   "execution_count": 44,
   "metadata": {},
   "outputs": [
    {
     "name": "stdout",
     "output_type": "stream",
     "text": [
      "MSE: 0.0047695464564899695\n"
     ]
    }
   ],
   "source": [
    "# Calcular erro médio no conjunto de teste\n",
    "y_pred = modelo.predict(X_teste).flatten() \n",
    "mse = ((y_pred - y_teste)**2).sum()/y_pred.size\n",
    "print('MSE:', mse)"
   ]
  },
  {
   "cell_type": "markdown",
   "metadata": {},
   "source": [
    "Você deve observar se o erro médio no conjunto de teste é similar ao observado no conjunto de validação e no de treino. Uma forma mais rigorosa de atestar semelhança seria construindo intervalos de confiança para os estimadores. Nessa atividade vamos nos satisfazer com uma análise qualitativa subjetiva apenas."
   ]
  },
  {
   "cell_type": "code",
   "execution_count": 45,
   "metadata": {},
   "outputs": [
    {
     "data": {
      "image/png": "[encoded data removed]",
      "text/plain": [
       "<Figure size 432x288 with 2 Axes>"
      ]
     },
     "metadata": {
      "needs_background": "light"
     },
     "output_type": "display_data"
    }
   ],
   "source": [
    "k = 2 # índice de exemplo -- mude para ver outro caso\n",
    "fig, ax = plt.subplots(1,2)\n",
    "ax[0].imshow(images[id_teste[k]]); \n",
    "ax[0].set_title(f'{y_teste[k]:.4f}');\n",
    "ax[1].imshow(X_teste[k,:,:,0] + X_teste[k,:,:,1], cmap='gray'); # combinamos os canais por simplicidade\n",
    "ax[1].set_title(f'{y_pred[k]:.4f}');"
   ]
  },
  {
   "cell_type": "markdown",
   "metadata": {},
   "source": [
    "## Salve seu modelo\n",
    "\n",
    "Por fim, vamos salvar o modelo para usá-lo no agente."
   ]
  },
  {
   "cell_type": "code",
   "execution_count": 47,
   "metadata": {},
   "outputs": [],
   "source": [
    "modelo.save('cnn_lane_pose_estimation.h5')"
   ]
  }
 ],
 "metadata": {
  "colab": {
   "collapsed_sections": [],
   "name": "regression_mac0318_2019.ipynb",
   "provenance": [],
   "version": "0.3.2"
  },
  "kernelspec": {
   "display_name": "Python 3",
   "language": "python",
   "name": "python3"
  },
  "language_info": {
   "codemirror_mode": {
    "name": "ipython",
    "version": 3
   },
   "file_extension": ".py",
   "mimetype": "text/x-python",
   "name": "python",
   "nbconvert_exporter": "python",
   "pygments_lexer": "ipython3",
   "version": "3.9.7"
  }
 },
 "nbformat": 4,
 "nbformat_minor": 4
}
