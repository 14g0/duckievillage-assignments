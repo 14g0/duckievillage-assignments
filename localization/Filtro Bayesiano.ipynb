{
 "cells": [
  {
   "cell_type": "markdown",
   "id": "46fe28e1-3bde-40bc-9b0d-c852511e90ea",
   "metadata": {},
   "source": [
    "# MAC0318 - Estimação de estado - Notebook 1\n",
    "\n",
    "*Pré-requisitos*: \n",
    "- **Software**: Para rodar este notebook corretamente, você deve ter o Python na versão 3.9 ou mais recente e as bibliotecas NumPy e Matplotlib instaladas. \n",
    "- **Conhecimento**: Esta atividade assume familiaridade com o uso de notebooks Jupyter, a manipulação de matrizes usando a bilbioteca NumPy e conhecimento de teoria de probabilidades. Recomendamos seguir algum tutorial da internet antes de realizar essa atividade, se esse não for o seu caso.\n",
    "\n",
    "<span style=\"color:blue\">Se você está rodando o notebook em sala de aula, você deve ativar o ambiente `duckietown` do conda antes de abrir o jupyter notebook e escolher o kernel `duckietown`, para que os requerimentos sejam satisfeitos.</red>"
   ]
  },
  {
   "cell_type": "markdown",
   "metadata": {},
   "source": [
    "## Estimação de estado\n",
    "\n",
    "Vamos construir um estimador de crença usando um filtro bayesiano para um domínio simples no qual um robô se locomove entre 4 células conectadas como na figura abaixo, e sensoria apenas a cor de cada célula:\n",
    "\n",
    "\n",
    "<figure style=\"text-align: center\">\n",
    "    <img src=\"img/mundo1d-num.png\" width=400>\n",
    "</figure>\n",
    "\n",
    "Para esse domínio simples, a variável de estado será representada por um processo estocástico discreto $X_t$ que toma valores em $\\{1,2,3,4\\}$ e a variável de observação será representada por um processo estocástico discreto $Y_t$ que toma valores binários representando as cores vermelha ($Y=0$) e verde ($Y=1$). O agente possui ações de mover-se à célula à esquerda ($u=-1$) ou à direita ($u=1$), que nem sempre são bem sucedidas. Por último, vamos tambem assumir que o tempo é discreto, ou seja, que o agente atualiza sua crença em instantes de tempo $t_0, t_0 + 1, \\ldots$, também conhecidos como estágios de decisão."
   ]
  },
  {
   "cell_type": "code",
   "execution_count": 1,
   "metadata": {},
   "outputs": [],
   "source": [
    "# Vamos carregar os pacotes necessários\n",
    "\n",
    "%matplotlib inline\n",
    "import numpy as np\n",
    "import matplotlib.pyplot as plt"
   ]
  },
  {
   "cell_type": "markdown",
   "metadata": {},
   "source": [
    "Vamos representar os suportes de cada variável aleatória por variáveis de programação de mesmo nome."
   ]
  },
  {
   "cell_type": "code",
   "execution_count": 2,
   "metadata": {},
   "outputs": [],
   "source": [
    "X = [1, 2, 3, 4]     # estados (células)\n",
    "Y = [0, 1]           # observações: 0 - vermelho, 1 - verde\n",
    "mapa = [0, 1, 1, 0]  # contém cor de cada célula"
   ]
  },
  {
   "cell_type": "markdown",
   "metadata": {},
   "source": [
    "Vamos especificar um sensor perfeito, ou seja, que identifica a cor exata da célula na qual o robô se encontra."
   ]
  },
  {
   "cell_type": "code",
   "execution_count": 3,
   "metadata": {},
   "outputs": [],
   "source": [
    "def sensor(y, x): \n",
    "    ''' Returns P(Y=y | X=x). '''\n",
    "    if mapa[x-1] == y:\n",
    "        return 1.0\n",
    "    else:\n",
    "        return 0.0"
   ]
  },
  {
   "cell_type": "code",
   "execution_count": 4,
   "metadata": {},
   "outputs": [
    {
     "name": "stdout",
     "output_type": "stream",
     "text": [
      "P(Y=0|X=1) = 1.0\n",
      "P(Y=1|X=1) = 0.0\n",
      "P(Y=0|X=2) = 0.0\n",
      "P(Y=1|X=2) = 1.0\n",
      "P(Y=0|X=3) = 0.0\n",
      "P(Y=1|X=3) = 1.0\n",
      "P(Y=0|X=4) = 1.0\n",
      "P(Y=1|X=4) = 0.0\n"
     ]
    }
   ],
   "source": [
    "for x in X:\n",
    "    for y in Y:\n",
    "        print(f'P(Y={y}|X={x}) =', sensor(y,x))"
   ]
  },
  {
   "cell_type": "markdown",
   "metadata": {},
   "source": [
    "Vamos especificar a função de transição (modelo do processo, de dinâmica ou de ação):\n",
    "$$\n",
    "P(X_{t+1}=x' | X_t=x, u) = \\begin{cases} 1/4 & \\text{ se } x'=x \\text{ ou } x'=x+2u\\\\1/2 & \\text{se } x'=x+u \\end{cases}\n",
    "$$\n",
    "\n",
    "De acordo com a função acima, o robô se movimenta para a célula pretendida com probabilidade 1/2 e com probabilidade 1/2 a ação falha e ele permance na mesma célula ou atinge a célula seguinte à pretendida. Nas células sem vizinhança na direção pretendida (por exemplo, $X=1$ para ação $u=1$) a ação faz o agente permanecer na mesma célula, por exemplo, $P(X_{t+1}=1|X_t=1, u=-1)=1$.\n",
    "\n",
    "Vamos representar as distribuições condicionais $P(X_{t+1}=x'|X_t=x, u)$ para uma dada ação $u$ como uma matriz $T[x',x]$ cuja coluna indica o valor do estado atual $x$ e cuja linha indica o valor do estado futuro $x'$. Dessa forma, os valores em cada coluna devem somar 1."
   ]
  },
  {
   "cell_type": "code",
   "execution_count": 5,
   "metadata": {},
   "outputs": [],
   "source": [
    "# T(x,u,x') = P(X'=x'|X=x,u)\n",
    "\n",
    "T = {\n",
    "    1: # u = direita \n",
    "     np.matrix( [[1/4, 0.0, 0.0, 0.0],  \n",
    "                 [1/2, 1/4, 0.0, 0.0],\n",
    "                 [1/4, 1/2, 1/4, 0.0],\n",
    "                 [0.0, 1/4, 3/4, 1.0]]),\n",
    "\n",
    "   -1: # u = esquerda\n",
    "     np.matrix( [[1.0, 3/4, 1/4, 0.0], \n",
    "                 [0.0, 1/4, 1/2, 1/4],\n",
    "                 [0.0, 0.0, 1/4, 1/2], \n",
    "                 [0.0, 0.0, 0.0, 1/4]])\n",
    "    }"
   ]
  },
  {
   "cell_type": "markdown",
   "metadata": {},
   "source": [
    "## Filtro Bayesiano\n",
    "\n",
    "O Filtro bayesiano calcula a crença \n",
    "$$\n",
    " \\text{bel}(x_t) = P(X_t = x_t | y_0,\\ldots,y_t,u_0,\\ldots,u_t)\n",
    "$$\n",
    "sobre o estado atual $X_t$ a partir de todas as ações $u$ e observações $y$ anteriores. \n",
    "\n",
    "Para facilitar as computações, vamos representar a crença por um vetor (ou tensor unidimensional)\n",
    "\n",
    "```python\n",
    "  bel = np.array([p1, p2, p3, p4]).T\n",
    "```\n",
    "\n",
    "onde `p1`, ..., `p4` são as probabilidades de cada célula (estado)."
   ]
  },
  {
   "cell_type": "code",
   "execution_count": 6,
   "metadata": {},
   "outputs": [],
   "source": [
    "# Crença uniforme sobre todos os estado -- máxima ignorância/incerteza\n",
    "\n",
    "bel = np.array([1/4, 1/4, 1/4, 1/4]).T"
   ]
  },
  {
   "cell_type": "markdown",
   "metadata": {},
   "source": [
    "A função a seguir exibe a crença em um dado instante"
   ]
  },
  {
   "cell_type": "code",
   "execution_count": 7,
   "metadata": {},
   "outputs": [],
   "source": [
    "def show_belief(p):\n",
    "    ''' Shows bar plot of belief funciton. '''\n",
    "    p = p.flatten()\n",
    "    states = plt.bar(X, p)\n",
    "    colors = {0: 'red', 1: 'green'}\n",
    "    for i in range(len(states)):\n",
    "        states[i].set_facecolor(colors[mapa[i]])\n",
    "    plt.xticks(X)\n",
    "    plt.ylim([0, 1])\n",
    "    plt.ylabel('bel(X)')\n",
    "    plt.xlabel('X') "
   ]
  },
  {
   "cell_type": "code",
   "execution_count": 8,
   "metadata": {},
   "outputs": [
    {
     "data": {
      "image/png": "[encoded data removed]",
      "text/plain": [
       "<Figure size 640x480 with 1 Axes>"
      ]
     },
     "metadata": {},
     "output_type": "display_data"
    }
   ],
   "source": [
    "# Mostrando a crença atual\n",
    "\n",
    "show_belief(bel)"
   ]
  },
  {
   "cell_type": "markdown",
   "metadata": {},
   "source": [
    "O Filtro Bayesiano assume que **estado e observação são markovianos** para  obter uma fórmula recursiva para o cálculo da crença atual a partir da crença prévia em duas etapas: \n",
    "\n",
    "- Correção, na qual informação de observação é incorporada à crença, e \n",
    "- Predição, na qual informação sobre a ação executada pelo agente é considerada."
   ]
  },
  {
   "cell_type": "markdown",
   "metadata": {},
   "source": [
    "### Correção\n",
    "\n",
    "Considere que nosa crença no instante $t$ é a distribuição de probabilidades $\\text{bel}_t(x)=P(X_t = x)$ e que recebemos uma observação $Y_t=y$. Note que omitimos a dependência em informações anteriores, pois elas não são relevantes devido à hipótese de markovianidade do filtro. A etapa de correção atualiza a crença por:\n",
    "\n",
    "$$\n",
    "    \\text{bel}_{t+1}(x) = P(X_{t+1}=x|y) = \\frac{p(y | x)\\text{bel}_t(x)}{p(y)}\n",
    "$$\n",
    "\n",
    "O denominador da equação acima é constante em relação ao estado $x$. Dessa forma, e lembrando a propriedade de distribuição de probabilidades, $\\sum_{x=1}^4 P(X_{t+1}=x) = 1$, podemos calculá-la como a constante de normalização da versão não normalizada:\n",
    "\n",
    "$$\n",
    "    \\tilde{\\text{bel}}_{t+1}(x) = p(y | x)\\text{bel}_t(x) .\n",
    "$$\n",
    "\n",
    "Em termos vetoriais, a equação acima computa o produto ponto-a-ponto de dois vetores cujas posições correspondem aos estados $x$."
   ]
  },
  {
   "cell_type": "code",
   "execution_count": 9,
   "metadata": {},
   "outputs": [],
   "source": [
    "def correct(b, y):\n",
    "    ''' Update belief vector b given observation y -- Calls sensor model sensor(y) = P(Y=y|X).  '''\n",
    "    tilde_bel = np.array([sensor(y,x) for x in X]).T # P(Y=y|X=x)\n",
    "    tilde_bel *= b # bel(X) * P(y|X)\n",
    "    # normaliza e atualiza vetor de crença\n",
    "    b[:] = tilde_bel/np.sum(tilde_bel) \n"
   ]
  },
  {
   "cell_type": "markdown",
   "metadata": {},
   "source": [
    "Vamos testar a equação de correção quando observamos a cor verde"
   ]
  },
  {
   "cell_type": "code",
   "execution_count": 10,
   "metadata": {},
   "outputs": [
    {
     "data": {
      "image/png": "[encoded data removed]",
      "text/plain": [
       "<Figure size 640x480 with 1 Axes>"
      ]
     },
     "metadata": {},
     "output_type": "display_data"
    }
   ],
   "source": [
    "# observar (verde)\n",
    "correct(bel, 1)\n",
    "\n",
    "show_belief(bel) "
   ]
  },
  {
   "cell_type": "markdown",
   "metadata": {},
   "source": [
    "### Predição\n",
    "\n",
    "A segunda etapa do filtro bayesiano atualiza a crença para uma dada ação $u$ por meio da fórmula:\n",
    "$$\n",
    "  \\text{bel}_{t+1}(x') = \\sum_{x} P(X_{t+1}=x' | X_t=x, u) \\text{bel}_t(x) .\n",
    "$$\n",
    "\n",
    "Em notação matricial, com $\\text{bel}$ representado como um vetor `bel` e a função de transição como uma matriz `T[u]` na forma descrita anterioremente, a equação acima pode ser escrita como\n",
    "$$\n",
    "  bel = T[u] * bel\n",
    "$$"
   ]
  },
  {
   "cell_type": "code",
   "execution_count": 11,
   "metadata": {},
   "outputs": [],
   "source": [
    "def predict(b, u):\n",
    "    ''' Update belief given action u - uses transition matrix T[u][x',x] = P(X'=x'|X=x,u). '''\n",
    "    b[:] = T[u] @ b"
   ]
  },
  {
   "cell_type": "markdown",
   "metadata": {},
   "source": [
    "Vamos testar para uma ação de mover-se para a célula à direita a partir da crença atual"
   ]
  },
  {
   "cell_type": "code",
   "execution_count": 12,
   "metadata": {},
   "outputs": [
    {
     "data": {
      "image/png": "[encoded data removed]",
      "text/plain": [
       "<Figure size 640x480 with 1 Axes>"
      ]
     },
     "metadata": {},
     "output_type": "display_data"
    }
   ],
   "source": [
    "# mover para direita\n",
    "predict(bel, 1)\n",
    "\n",
    "show_belief(bel)"
   ]
  },
  {
   "cell_type": "markdown",
   "metadata": {},
   "source": [
    "## Estimação pontual de estado\n",
    "\n",
    "Para transformamos a crença em uma sinal de erro utilizável por controlador (PID) precisamos extrair um sumário ou estatística da função. Para o caso de variáveis categóricas (cujos valores não possuem significado numérico, como as observações) ou para o caso de variáveis multimodais (ou seja, cujas distribuição de probabilidades possuem vários pontos de máximo locais), o mais comum é usar a **moda** da distribuição ou o valor mais provável, também conhecido como inferência de máximo a posteriori ou MAP (do inglês, _maximum a posteriori_).\n",
    "\n",
    "No nosso domínio simples, os estados podem ser entendidos como discretização de valores contínuous de posição, de forma que também é possível obter uma estatística que combine informação de toda a função de crença como a **média** ou valor esperado. \n",
    "\n",
    "Essas estatísticas são implementadas abaixo"
   ]
  },
  {
   "cell_type": "code",
   "execution_count": 13,
   "metadata": {},
   "outputs": [],
   "source": [
    "def get_mode(b):\n",
    "    ''' Extract most probable belief state. '''\n",
    "    mode = X[0]\n",
    "    map_value = 0.0 # maximum state probability\n",
    "    for i,x in enumerate(X): # implementação ineficiente para fins didáticos!\n",
    "        if b[i] > map_value:\n",
    "            map_value = b[i]\n",
    "            mode = x\n",
    "    return mode"
   ]
  },
  {
   "cell_type": "code",
   "execution_count": 14,
   "metadata": {},
   "outputs": [],
   "source": [
    "def get_mean(b):\n",
    "    ''' Extract mean belief state value. '''\n",
    "    mean = 0.0\n",
    "    for i,x in enumerate(X): # impementação ineficiente para fins didáticos!\n",
    "        mean += x*b[i]\n",
    "    return mean"
   ]
  },
  {
   "cell_type": "markdown",
   "metadata": {},
   "source": [
    "Para nossa crença atual, essas estatísticas resultam nos seguintes descritores:"
   ]
  },
  {
   "cell_type": "code",
   "execution_count": 15,
   "metadata": {},
   "outputs": [
    {
     "name": "stdout",
     "output_type": "stream",
     "text": [
      "Mode state: 4\n",
      "Mean state: 3.375\n"
     ]
    }
   ],
   "source": [
    "x = get_mode(bel)\n",
    "print('Mode state:', x)\n",
    "x = get_mean(bel)\n",
    "print('Mean state:', x)"
   ]
  },
  {
   "cell_type": "markdown",
   "metadata": {},
   "source": [
    "## 💡 Exercício 1\n",
    "\n",
    "Use as funções espeficicadas para simular um agente que se locomove com movimentos aleatórios (ou seja, a cada passo desloca-se para direita ou esquerda com igual probabilidade). Observe como a crença do agente se modifica. Em particular, note que a etapa de correção diminui a incerteza, enquanto a etapa de predição aumenta a incerteza. Também repare como movimentos para as bordas diminuem a incerteza em função das ações se tornarem determinísticas. Rode simulações com crenças iniciais distintas também, por exemplo, além da completa ignorância do estado inicial, representada pela distribuição uniforme a priori, uma crença que atribui probabilidade 1/2 ao estado inicial estado e 1/4 ao estados vizinhos."
   ]
  },
  {
   "cell_type": "code",
   "execution_count": 16,
   "metadata": {},
   "outputs": [],
   "source": [
    "# Implementar simulação descrita acima\n",
    "\n",
    "# Gera posição inicial aleatória entre X[0] e X[-1] (inclusive)\n",
    "x_true = np.random.randint(X[0],X[-1]+1) \n",
    "\n",
    "# Para gerar uma ação aleatória -1 ou 1 com mesma probabilidade:\n",
    "u = 2*np.random.randint(0,2) - 1 "
   ]
  },
  {
   "cell_type": "markdown",
   "metadata": {},
   "source": [
    "## 💡 Exercício 2\n",
    "\n",
    "Refaça suas investigações considerando um domínio mais complexo, composto de 100 células e um sensor imperfeito, que devolve a cor errada com probabilidade 0,1. Como o comportamento do filtro bayesian se diferencia nesse caso?"
   ]
  },
  {
   "cell_type": "code",
   "execution_count": 16,
   "metadata": {},
   "outputs": [],
   "source": [
    "def sensor(y, x): \n",
    "    ''' Returns P(Y=y | X=x). '''\n",
    "    # Modifique essa função para que ela simule um sensor que erra com probabilidade 0,1\n",
    "    if mapa[x-1] == y:\n",
    "        return 1.0\n",
    "    else:\n",
    "        return 0.0"
   ]
  },
  {
   "cell_type": "code",
   "execution_count": 17,
   "metadata": {},
   "outputs": [],
   "source": [
    "# simular filtro em domínio maior\n",
    "X = np.arange(1,101)     # estados (células)\n",
    "Y = [0, 1]               # observações: 0 - vermelho, 1 - verde\n",
    "mapa = np.random.randint(0,2,len(X))      # mapa aleatório -- contém cor de cada célula"
   ]
  }
 ],
 "metadata": {
  "kernelspec": {
   "display_name": "Python 3.10.8 64-bit",
   "language": "python",
   "name": "python3"
  },
  "language_info": {
   "codemirror_mode": {
    "name": "ipython",
    "version": 3
   },
   "file_extension": ".py",
   "mimetype": "text/x-python",
   "name": "python",
   "nbconvert_exporter": "python",
   "pygments_lexer": "ipython3",
   "version": "3.10.8"
  },
  "vscode": {
   "interpreter": {
    "hash": "949777d72b0d2535278d3dc13498b2535136f6dfe0678499012e853ee9abcab1"
   }
  }
 },
 "nbformat": 4,
 "nbformat_minor": 4
}
