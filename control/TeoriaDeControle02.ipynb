{
 "cells": [
  {
   "cell_type": "markdown",
   "id": "46fe28e1-3bde-40bc-9b0d-c852511e90ea",
   "metadata": {},
   "source": [
    "# MAC0318 - Teoria de controle - Notebook 2\n",
    "\n",
    "*Pré-requisitos*: \n",
    "- **Software**: Para rodar este notebook corretamente, você deve ter o Python na versão 3.9 ou mais recente e a biblioteca NumPy instalada. Antes de começar, assegure-se de que essas condições são satisfeitas.\n",
    "- **Conhecimento**: Esta atividade assume familiaridade com o uso de notebooks Jupyter e a manipulação de matrizes usando a bilbioteca NumPy. Recomendamos seguir algum tutorial da internet antes de realizar essa atividade, se esse não for o seu caso.\n",
    "\n",
    "<span style=\"color:blue\">Se você está rodando o notebook em sala de aula, você deve ativar o ambiente `duckietown` do conda antes de abrir o jupyter notebook e escolher o kernel `duckietown`, para que os requerimentos sejam satisfeitos.</red>"
   ]
  },
  {
   "cell_type": "markdown",
   "id": "bf883475-2079-48ac-b8e2-044ba87d2b98",
   "metadata": {},
   "source": [
    "## Sistemas dinâmicos\n",
    "\n",
    "Um sistema é descrito matematicamente como uma função que mapeia sinais de entradas em sinais de saídas. Um sistema dinâmico é tal que a transformação de entrada em saída varia com o tempo. Matematicamente, descrevemos tal sistema por uma função $`y_t = f(u_t, t)`$, onde $`y_t`$ é a saída do sistema no tempo $`t`$ e $`u_t`$ é a entrada no mesmo instante. Sistemas dinâmicos de tempo contínuo são normalmente descritos por um sistema de equações diferenciais ordinárias (EDO):\n",
    "$$\n",
    "\\dot{s}_t = g(s_t,u_t,t), \\qquad y_t = h(s_t,u_t,t).\n",
    "$$\n",
    "A variável $s_t$ é o vetor de estado do sistema e $\\dot{s}_t$ sua primeira derivada em relação tempo. Podemos obter a evolução do sistema, resolvendo as EDO:\n",
    "$$\n",
    "s_t(u_t, t) = \\int_{t_0}^t g(s_\\tau, u_\\tau, \\tau) d\\tau .\n",
    "$$\n",
    "E dessa forma obtemos $y_t = f(u_t,t)$.\n",
    "\n",
    "Já sistemas de tempo discreto (ou seja, quando $t = 0,1,\\ldots$) são normalmente descritos por equações de diferenças:\n",
    "$$\n",
    "s_{t+1} = g(s_t,u_t,t) .\n",
    "$$\n",
    "\n",
    "Em ambos os casos, dizemos que o sistema é invariante no tempo se para todo $t$ e $k$, temos:\n",
    "$$`\n",
    "g(s,u,t+k) = g(t,s,u) \\text{ e } h(s,u,t+k).\n",
    "`$$"
   ]
  },
  {
   "cell_type": "markdown",
   "id": "bf883475-2079-48ac-b8e2-044ba87d2b98",
   "metadata": {},
   "source": [
    "### Sistema massa-mola\n",
    "\n",
    "<figure style='float:right'>\n",
    "    <div style=\"text-align:center;\">\n",
    "        <img src=\"img/spring_mass.png\" width=\"350\" alt=\"spring-mass system\">\n",
    "    </div>\n",
    "</figure>\n",
    "\n",
    "Um exemplo simples mas interessante de sistema dinâmico é a descrição da posição e velocidade de um objeto rígido com massa preso a uma mola, com uma de suas extremidades fixa. Tal sistema é chamado mass-mola ou também integrador duplo, devido a uma dupla integral de seu estado, como veremos. Considere portanto o sistema ilustrado na figura ao lado, com as seguintes definições:\n",
    "\n",
    "- $m$: massa do corpo rígido [kg]\n",
    "- $q$: distância do objeto à parede [m]\n",
    "- $v$: velocidade do objeto [m/s]\n",
    "- $a$: aceleração do objeto [m/s^2]\n",
    "- $F_u$: força estimuladora [N]\n",
    "- $C$: coeficiente de amortecimento linear\n",
    "- $K$: constante elástica (stiffness) da mola\n",
    "\n",
    "Vamos definir o estado como\n",
    "$$`\n",
    "s_t = \\begin{pmatrix} x_t \\\\ v_t \\end{pmatrix}.\n",
    "`$$\n",
    "\n",
    "Vamos supor que a força $F_u$ segue um sinal dado por $u_t$. De acordo com a segunda Lei de Newton, temos que:\n",
    "$$\n",
    "m\\dot{v}_t = u_t - C v_t - K q_t\n",
    "$$\n",
    "\n",
    "Rearrajando termos e colocando em notação matricial, podemos representar o sistema dinâmico de tempo contínuo como a seguinte equação de transição no espaço de estados:\n",
    "$$\n",
    " \\begin{bmatrix}\n",
    " \\dot{q} \\\\ \\dot{v}\n",
    " \\end{bmatrix}\n",
    " =\n",
    " \\begin{bmatrix}\n",
    " 0 & 1 \\\\ -K/m & -C/m\n",
    " \\end{bmatrix}\n",
    "  \\begin{bmatrix}\n",
    "  q \\\\ v\n",
    " \\end{bmatrix}\n",
    " +\n",
    " \\begin{bmatrix}\n",
    " 0 \\\\ 1/m\n",
    " \\end{bmatrix}\n",
    " u\n",
    "$$\n",
    "Note que o sistema acima descreve uma transformação linear invariante no tempo da forma $\\dot{q} = f(q,u) = Aq + Bu$. Tais sistemas gozam de diversas propriedades importantes."
   ]
  },
  {
   "cell_type": "code",
   "execution_count": null,
   "id": "0e85e0d7",
   "metadata": {},
   "outputs": [],
   "source": [
    "%matplotlib inline\n",
    "import numpy as np\n",
    "import matplotlib.pyplot as plt"
   ]
  },
  {
   "cell_type": "code",
   "execution_count": 1,
   "id": "75d34805-fa1f-45db-8854-1e7d56847803",
   "metadata": {},
   "outputs": [],
   "source": [
    "# \n",
    "# State-space dynamics\n",
    "# \n",
    "# Constants\n",
    "K = 0.6  # spring constant (K=6 - stable, K=60, unstable\n",
    "C = 2.0  # damping\n",
    "m = 2.0    # mass [kg]\n",
    "# State s = [x, v]\n",
    "# Homogenous Transition Matrix\n",
    "A = np.array([[0, 1], [-K/m, -C/m]])\n",
    "# Inhomogenous component\n",
    "b = np.array([[0],[1/m]])\n",
    "\n",
    "# Euler approximation to differential state-space equation\n",
    "def forward(s, dt):\n",
    "    #u = control(s, dt)\n",
    "    u = 0.0\n",
    "    ds = A @ s + b * u\n",
    "    s += ds*dt"
   ]
  },
  {
   "cell_type": "code",
   "execution_count": 3,
   "id": "161d8dc0-bde6-4bf7-9ccd-075fdbc56c60",
   "metadata": {},
   "outputs": [
    {
     "name": "stdout",
     "output_type": "stream",
     "text": [
      "x(0) = [0. 0. 0.]\n",
      "x(1) = [0.02 0.   0.  ]\n",
      "x(2) = [0.02 0.   1.  ]\n"
     ]
    }
   ],
   "source": [
    "# Vamos usar a função forward para simular a evolução do estado do robô a partir\n",
    "# de um estado inicial para 2 passos de tempo com sinais de controle variando\n",
    "\n",
    "x = np.zeros(3) # estado inicial x(0) = [0,0,0]\n",
    "print('x(0) =', x)\n",
    "forward(x, 0.2, 0, 0.1) # move adiante com velocidade de 0.2m/s por 0.1s\n",
    "print('x(1) =', x)\n",
    "forward(x, 0., 10, 0.1) # gira a 10 rad/s no eixo por 0.1s\n",
    "print('x(2) =', x)"
   ]
  },
  {
   "cell_type": "markdown",
   "id": "dea89e0e",
   "metadata": {},
   "source": [
    "## Estabilidade de sistemas dinâmicos\n",
    "\n",
    "Um sistema é descrito matematicamente como uma função que mapeia sinais de entradas em sinais de saídas. Um sistema dinâmico é tal que a transformação de entrada em saída varia com o tempo. Matematicamente, descrevemos tal sistema por uma função $`y_t = f(u_t, t)`$, onde $`y_t`$ é a saída do sistema no tempo $`t`$ e $`u_t`$ é a entrada no mesmo instante. Para nosso robô de tempo discreto, o sistema dinâmico mapeia um sinal de controle $`u_t = \\begin{pmatrix} v_t & w_t \\end{pmatrix}`$ em um novo estado $`x_{t}`$, que pode também ser visto como a saída:\n",
    "\n",
    "$$`\n",
    "y_t = x_t = f(v_t,w_t,t) .\n",
    "`$$\n",
    "\n",
    "Há muitas formas de definir establidade de um sistema dinâmico. A mais comum é a que conecta estabilidade ao conceito de saída finita, chamado em inglês de [*Bounded-Input, Bounded-Output* (BIBO)](https://en.wikipedia.org/wiki/BIBO_stability). De acordo com esse conceito, um sistema descrito em tempo discreto por estados $`x_0,x_1,\\ldots`$ é estável se sua saída é limitada sempre que sua entrada também o for. Um sinal $f_t$ é limitado se existe uma constante $`B > 0`$ que limita superiormente a magnitude do sinal isto é, se $`|x_t| < B`$ para qualquer $`t > 0`$. Por exemplo, o sistema de tempo contínuo descrito pela equação \n",
    "$$`\n",
    "y_t = e^{-t} u_t\n",
    "`$$ \n",
    "é BIBO-estável, pois para $`u_t < C`$ temos que $`y_t < C`$ para qualquer $`C > 0`$. Já o sistema descrito por\n",
    "$$`\n",
    "y_t = e^{t} u_t\n",
    "`$$ \n",
    "não é BIBO-estável, pois para $`u_t = 1`$ não existe nenhuma constante $`C`$ satisfazendo $`y_t < C`$ para todo $`t > 0`$. Para sistemas que dependem de condições inicias, em geral definimos BIBO-estabilidade assumindo condições iniciais nulas (por exemplo, que a posição e velocidades do robô são zero no instante inicial)."
   ]
  },
  {
   "cell_type": "markdown",
   "id": "9bc3be65",
   "metadata": {},
   "source": [
    "## Exercício 1\n",
    "\n",
    "Podemos dizer que o sistema de cinemática direta que descreve a pose do robô $`q(t)`$ em função das velocidades $`v(t)`$ e $`w(t)`$ acima é BIBO-estável? Justifique sua resposta, apontando porque o estado descrito pelo sistema será limitado com entradas limitadas ou apontando um contra-exemplo. Você pode usar as simulações das função `forward` como aproximações da dinâmica verdadeira do sistema para justificar sua resposta."
   ]
  },
  {
   "cell_type": "markdown",
   "id": "c5dd10fc",
   "metadata": {},
   "source": [
    "### RESPOSTA\n",
    "\n",
    "<span style=\"color:red\">Escreva sua resposta aqui</span>"
   ]
  },
  {
   "cell_type": "code",
   "execution_count": null,
   "id": "5d42fbe7-cd5d-4157-ab4b-de01827ef5cc",
   "metadata": {},
   "outputs": [],
   "source": []
  },
  {
   "cell_type": "code",
   "execution_count": null,
   "id": "890c032a-e2a8-4bb1-9c56-38203cd23ca6",
   "metadata": {},
   "outputs": [],
   "source": [
    "#\n",
    "# Control law\n",
    "#\n",
    "t_elapsed = 0\n",
    "# Reference:\n",
    "def control(s, dt):\n",
    "    global t_elapsed\n",
    "    t_elapsed += dt\n",
    "    return (np.sin(3*t_elapsed) + np.cos(4*t_elapsed))/t_elapsed\n"
   ]
  },
  {
   "cell_type": "code",
   "execution_count": null,
   "id": "3e8b251e-d0d4-4c32-919c-ba88e494c328",
   "metadata": {},
   "outputs": [],
   "source": [
    "# Initial state\n",
    "s = np.array([[0.2], [0.0]])"
   ]
  },
  {
   "cell_type": "code",
   "execution_count": null,
   "id": "6e2433e9-b0a0-4a9a-acce-35e1f66d2c32",
   "metadata": {},
   "outputs": [
    {
     "ename": "NameError",
     "evalue": "name 'forward' is not defined",
     "output_type": "error",
     "traceback": [
      "\u001b[0;31m---------------------------------------------------------------------------\u001b[0m\n",
      "\u001b[0;31mNameError\u001b[0m                                 Traceback (most recent call last)\n",
      "\u001b[1;32m/Users/denis/Dropbox/Courses/MAC318/2021/notebooks/Spring-Mass system.ipynb Cell 7\u001b[0m in \u001b[0;36m<cell line: 4>\u001b[0;34m()\u001b[0m\n",
      "\u001b[1;32m      <a href='vscode-notebook-cell:/Users/denis/Dropbox/Courses/MAC318/2021/notebooks/Spring-Mass%20system.ipynb#W6sZmlsZQ%3D%3D?line=2'>3</a>\u001b[0m v_hist \u001b[39m=\u001b[39m []\n",
      "\u001b[1;32m      <a href='vscode-notebook-cell:/Users/denis/Dropbox/Courses/MAC318/2021/notebooks/Spring-Mass%20system.ipynb#W6sZmlsZQ%3D%3D?line=3'>4</a>\u001b[0m \u001b[39mfor\u001b[39;00m _ \u001b[39min\u001b[39;00m \u001b[39mrange\u001b[39m(\u001b[39m500\u001b[39m):\n",
      "\u001b[0;32m----> <a href='vscode-notebook-cell:/Users/denis/Dropbox/Courses/MAC318/2021/notebooks/Spring-Mass%20system.ipynb#W6sZmlsZQ%3D%3D?line=4'>5</a>\u001b[0m     forward(s, dt)\n",
      "\u001b[1;32m      <a href='vscode-notebook-cell:/Users/denis/Dropbox/Courses/MAC318/2021/notebooks/Spring-Mass%20system.ipynb#W6sZmlsZQ%3D%3D?line=5'>6</a>\u001b[0m     x_hist\u001b[39m.\u001b[39mappend(s[\u001b[39m0\u001b[39m,\u001b[39m0\u001b[39m])\n",
      "\u001b[1;32m      <a href='vscode-notebook-cell:/Users/denis/Dropbox/Courses/MAC318/2021/notebooks/Spring-Mass%20system.ipynb#W6sZmlsZQ%3D%3D?line=6'>7</a>\u001b[0m     v_hist\u001b[39m.\u001b[39mappend(s[\u001b[39m1\u001b[39m,\u001b[39m0\u001b[39m])\n",
      "\n",
      "\u001b[0;31mNameError\u001b[0m: name 'forward' is not defined"
     ]
    }
   ],
   "source": [
    "dt = 0.1\n",
    "x_hist = []\n",
    "v_hist = []\n",
    "for _ in range(500):\n",
    "    forward(s, dt)\n",
    "    x_hist.append(s[0,0])\n",
    "    v_hist.append(s[1,0])   "
   ]
  },
  {
   "cell_type": "code",
   "execution_count": null,
   "id": "9ba95793-09fe-4cf0-aa59-a315c4f87072",
   "metadata": {},
   "outputs": [
    {
     "data": {
      "image/png": "[encoded data removed]",
      "text/plain": [
       "<Figure size 720x288 with 2 Axes>"
      ]
     },
     "metadata": {},
     "output_type": "display_data"
    }
   ],
   "source": [
    "_, ax = plt.subplots(1,2, figsize=(10,4))\n",
    "ax[0].plot(x_hist);\n",
    "ax[0].set_ylabel('Distance');\n",
    "ax[1].plot(v_hist);\n",
    "ax[1].set_ylabel('Velocity');\n",
    "plt.suptitle(f\"K={K}, C={C}, m={m}\")\n",
    "plt.tight_layout()\n",
    "plt.savefig(f\"spring-mass-{K}-{C}.pdf\")"
   ]
  },
  {
   "cell_type": "code",
   "execution_count": null,
   "id": "9e35a72f",
   "metadata": {},
   "outputs": [],
   "source": [
    "t_elapsed"
   ]
  }
 ],
 "metadata": {
  "kernelspec": {
   "display_name": "Python 3.10.6 64-bit",
   "language": "python",
   "name": "python3"
  },
  "language_info": {
   "codemirror_mode": {
    "name": "ipython",
    "version": 3
   },
   "file_extension": ".py",
   "mimetype": "text/x-python",
   "name": "python",
   "nbconvert_exporter": "python",
   "pygments_lexer": "ipython3",
   "version": "3.10.6"
  },
  "vscode": {
   "interpreter": {
    "hash": "949777d72b0d2535278d3dc13498b2535136f6dfe0678499012e853ee9abcab1"
   }
  }
 },
 "nbformat": 4,
 "nbformat_minor": 5
}
